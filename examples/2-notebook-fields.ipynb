{
 "cells": [
  {
   "cell_type": "markdown",
   "metadata": {},
   "source": [
    "# Notebook 2: fields\n",
    "\n",
    "## Fields\n",
    "\n",
    "- `host`: string that must match a valid IPv4 address\n",
    "- `port`: int between 1~65535 (inclusive)\n",
    "- `database`: string with a min length of 5 characters (leading/trailing whitespaces are cleared)"
   ]
  },
  {
   "cell_type": "code",
   "execution_count": 1,
   "metadata": {},
   "outputs": [
    {
     "name": "stdout",
     "output_type": "stream",
     "text": [
      "from pydantic import BaseSettings, Field\r\n",
      "\r\n",
      "\r\n",
      "class MySettings(BaseSettings):\r\n",
      "    # https://www.regexpal.com/96770\r\n",
      "    host: str = Field(..., regex=\"^(([0-9]|[1-9][0-9]|1[0-9]{2}|2[0-4][0-9]|25[0-5])\\.){3}([0-9]|[1-9][0-9]|1[0-9]{2}|2[0-4][0-9]|25[0-5])$\")\r\n",
      "    \"\"\"Must be a valid IPv4 address\"\"\"\r\n",
      "    port: int = Field(ge=1, le=65535)\r\n",
      "    \"\"\"Must be a valid port between 1~65535 (inclusive)\"\"\"\r\n",
      "    database: str = Field(min_length=5)\r\n",
      "    \"\"\"Must be a string with at least 5 characters\"\"\"\r\n",
      "    \r\n",
      "    class Config:\r\n",
      "        env_prefix = \"APP_\"\r\n",
      "        env_file = \".env\"\r\n",
      "        anystr_strip_whitespace = True\r\n",
      "        \"\"\"For all strings, strip leading & trailing whitespaces\"\"\"\r\n",
      "\r\n",
      "\r\n",
      "settings = MySettings()\r\n",
      "print(\"App host:\", settings.host)\r\n",
      "print(\"App port:\", settings.port)\r\n",
      "print(\"App database:\", settings.database)\r\n"
     ]
    }
   ],
   "source": [
    "!cat 2*.py"
   ]
  },
  {
   "cell_type": "code",
   "execution_count": 2,
   "metadata": {},
   "outputs": [
    {
     "name": "stdout",
     "output_type": "stream",
     "text": [
      "App host: 1.1.1.1\r\n",
      "App port: 8080\r\n",
      "App database: thingies\r\n"
     ]
    }
   ],
   "source": [
    "# With valid fields (read from .env file)\n",
    "!echo \"APP_HOST=1.1.1.1\" > .env\n",
    "!echo \"APP_PORT=8080\" >> .env\n",
    "!echo \"APP_DATABASE=thingies\" >> .env\n",
    "\n",
    "!python 2*.py"
   ]
  },
  {
   "cell_type": "code",
   "execution_count": 3,
   "metadata": {},
   "outputs": [
    {
     "name": "stdout",
     "output_type": "stream",
     "text": [
      "Traceback (most recent call last):\r\n",
      "  File \"2-fields.py\", line 20, in <module>\r\n",
      "    settings = MySettings()\r\n",
      "  File \"pydantic/env_settings.py\", line 28, in pydantic.env_settings.BaseSettings.__init__\r\n",
      "  File \"pydantic/main.py\", line 338, in pydantic.main.BaseModel.__init__\r\n",
      "pydantic.error_wrappers.ValidationError: 1 validation error for MySettings\r\n",
      "host\r\n",
      "  string does not match regex \"^(([0-9]|[1-9][0-9]|1[0-9]{2}|2[0-4][0-9]|25[0-5])\\.){3}([0-9]|[1-9][0-9]|1[0-9]{2}|2[0-4][0-9]|25[0-5])$\" (type=value_error.str.regex; pattern=^(([0-9]|[1-9][0-9]|1[0-9]{2}|2[0-4][0-9]|25[0-5])\\.){3}([0-9]|[1-9][0-9]|1[0-9]{2}|2[0-4][0-9]|25[0-5])$)\r\n"
     ]
    }
   ],
   "source": [
    "# Host field is an invalid IP (the other fields are read from the .env file)\n",
    "!APP_HOST=NotAnIPAddress python 2*.py"
   ]
  },
  {
   "cell_type": "code",
   "execution_count": 4,
   "metadata": {},
   "outputs": [
    {
     "name": "stdout",
     "output_type": "stream",
     "text": [
      "With port=0:\n",
      "Traceback (most recent call last):\n",
      "  File \"2-fields.py\", line 20, in <module>\n",
      "    settings = MySettings()\n",
      "  File \"pydantic/env_settings.py\", line 28, in pydantic.env_settings.BaseSettings.__init__\n",
      "  File \"pydantic/main.py\", line 338, in pydantic.main.BaseModel.__init__\n",
      "pydantic.error_wrappers.ValidationError: 1 validation error for MySettings\n",
      "port\n",
      "  ensure this value is greater than or equal to 1 (type=value_error.number.not_ge; limit_value=1)\n",
      "\n",
      "With port=100000:\n",
      "Traceback (most recent call last):\n",
      "  File \"2-fields.py\", line 20, in <module>\n",
      "    settings = MySettings()\n",
      "  File \"pydantic/env_settings.py\", line 28, in pydantic.env_settings.BaseSettings.__init__\n",
      "  File \"pydantic/main.py\", line 338, in pydantic.main.BaseModel.__init__\n",
      "pydantic.error_wrappers.ValidationError: 1 validation error for MySettings\n",
      "port\n",
      "  ensure this value is less than or equal to 65535 (type=value_error.number.not_le; limit_value=65535)\n"
     ]
    }
   ],
   "source": [
    "# Port field is out of range\n",
    "!echo \"With port=0:\"\n",
    "!APP_PORT=0 python 2*.py\n",
    "\n",
    "!echo \"\\nWith port=100000:\"\n",
    "!APP_PORT=100000 python 2*.py"
   ]
  },
  {
   "cell_type": "code",
   "execution_count": 5,
   "metadata": {},
   "outputs": [
    {
     "name": "stdout",
     "output_type": "stream",
     "text": [
      "Traceback (most recent call last):\r\n",
      "  File \"2-fields.py\", line 20, in <module>\r\n",
      "    settings = MySettings()\r\n",
      "  File \"pydantic/env_settings.py\", line 28, in pydantic.env_settings.BaseSettings.__init__\r\n",
      "  File \"pydantic/main.py\", line 338, in pydantic.main.BaseModel.__init__\r\n",
      "pydantic.error_wrappers.ValidationError: 1 validation error for MySettings\r\n",
      "database\r\n",
      "  ensure this value has at least 5 characters (type=value_error.any_str.min_length; limit_value=5)\r\n"
     ]
    }
   ],
   "source": [
    "# Database field string length must be at least 5 characters long\n",
    "!APP_DATABASE=1234 python 2*.py"
   ]
  },
  {
   "cell_type": "code",
   "execution_count": 6,
   "metadata": {},
   "outputs": [
    {
     "name": "stdout",
     "output_type": "stream",
     "text": [
      "App host: 1.1.1.1\r\n",
      "App port: 8080\r\n",
      "App database: the_database\r\n"
     ]
    }
   ],
   "source": [
    "# The strings on this class strip leading/trailing whitespaces...\n",
    "!APP_DATABASE=\"     the_database     \" python 2*.py"
   ]
  },
  {
   "cell_type": "code",
   "execution_count": 7,
   "metadata": {},
   "outputs": [
    {
     "name": "stdout",
     "output_type": "stream",
     "text": [
      "Traceback (most recent call last):\r\n",
      "  File \"2-fields.py\", line 20, in <module>\r\n",
      "    settings = MySettings()\r\n",
      "  File \"pydantic/env_settings.py\", line 28, in pydantic.env_settings.BaseSettings.__init__\r\n",
      "  File \"pydantic/main.py\", line 338, in pydantic.main.BaseModel.__init__\r\n",
      "pydantic.error_wrappers.ValidationError: 1 validation error for MySettings\r\n",
      "database\r\n",
      "  ensure this value has at least 5 characters (type=value_error.any_str.min_length; limit_value=5)\r\n"
     ]
    }
   ],
   "source": [
    "# ...and the min string length is verified after striping whitespaces\n",
    "!APP_DATABASE=\"   1234    \" python 2*.py"
   ]
  },
  {
   "cell_type": "code",
   "execution_count": null,
   "metadata": {},
   "outputs": [],
   "source": []
  }
 ],
 "metadata": {
  "kernelspec": {
   "display_name": "Python 3",
   "language": "python",
   "name": "python3"
  },
  "language_info": {
   "codemirror_mode": {
    "name": "ipython",
    "version": 3
   },
   "file_extension": ".py",
   "mimetype": "text/x-python",
   "name": "python",
   "nbconvert_exporter": "python",
   "pygments_lexer": "ipython3",
   "version": "3.8.1"
  }
 },
 "nbformat": 4,
 "nbformat_minor": 4
}
