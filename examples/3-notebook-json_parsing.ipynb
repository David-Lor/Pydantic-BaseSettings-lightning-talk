{
 "cells": [
  {
   "cell_type": "markdown",
   "metadata": {},
   "source": [
    "# Notebook 3: json parsing\n",
    "\n",
    "## Fields\n",
    "\n",
    "- `hosts`: list of strings, defined from env like `[\"foo\", \"bar\"]`\n",
    "- `ports`: definition of another model, which input must be a JSON compliant with the model:\n",
    "    - `http`: int (required)\n",
    "    - `mqtt`: int (required)\n",
    "    - ...defined from env like `{\"http\": 80, \"mqtt\": 1883}` - the whole `ports` object is optional, but if defined, both of its fields are required"
   ]
  },
  {
   "cell_type": "code",
   "execution_count": 1,
   "metadata": {},
   "outputs": [
    {
     "name": "stdout",
     "output_type": "stream",
     "text": [
      "from typing import List, Optional\r\n",
      "\r\n",
      "from pydantic import BaseSettings, BaseModel\r\n",
      "\r\n",
      "\r\n",
      "class PortsSettings(BaseModel):\r\n",
      "\thttp: int\r\n",
      "\tmqtt: int\r\n",
      "\r\n",
      "\r\n",
      "class MySettings(BaseSettings):\r\n",
      "    hosts: List[str]\r\n",
      "    ports: Optional[PortsSettings]\r\n",
      "    \r\n",
      "    class Config:\r\n",
      "        env_prefix = \"APP_\"\r\n",
      "        env_file = \".env\"\r\n",
      "\r\n",
      "\r\n",
      "settings = MySettings()\r\n",
      "print(\"App hosts:\", settings.hosts)\r\n",
      "if settings.ports:\r\n",
      "\tprint(\"App HTTP port:\", settings.ports.http)\r\n",
      "\tprint(\"App MQTT port:\", settings.ports.mqtt)\r\n"
     ]
    }
   ],
   "source": [
    "!cat 3*.py"
   ]
  },
  {
   "cell_type": "code",
   "execution_count": 2,
   "metadata": {},
   "outputs": [
    {
     "name": "stdout",
     "output_type": "stream",
     "text": [
      "App hosts: ['foo', 'bar']\r\n"
     ]
    }
   ],
   "source": [
    "# With valid hosts array (valid JSON string)\n",
    "!APP_HOSTS=\"[\\\"foo\\\", \\\"bar\\\"]\" python 3*.py"
   ]
  },
  {
   "cell_type": "code",
   "execution_count": 3,
   "metadata": {},
   "outputs": [
    {
     "name": "stdout",
     "output_type": "stream",
     "text": [
      "App hosts: ['foo', '1']\r\n"
     ]
    }
   ],
   "source": [
    "# With hosts array, including a number that is converted to string\n",
    "!APP_HOSTS=\"[\\\"foo\\\", 1]\" python 3*.py"
   ]
  },
  {
   "cell_type": "code",
   "execution_count": 4,
   "metadata": {},
   "outputs": [
    {
     "name": "stdout",
     "output_type": "stream",
     "text": [
      "Traceback (most recent call last):\r\n",
      "  File \"3-json_parsing.py\", line 20, in <module>\r\n",
      "    settings = MySettings()\r\n",
      "  File \"pydantic/env_settings.py\", line 28, in pydantic.env_settings.BaseSettings.__init__\r\n",
      "  File \"pydantic/main.py\", line 338, in pydantic.main.BaseModel.__init__\r\n",
      "pydantic.error_wrappers.ValidationError: 1 validation error for MySettings\r\n",
      "hosts -> 1\r\n",
      "  str type expected (type=type_error.str)\r\n"
     ]
    }
   ],
   "source": [
    "# With hosts array, including an invalid object on the array\n",
    "!APP_HOSTS=\"[\\\"foo\\\", {}]\" python 3*.py"
   ]
  },
  {
   "cell_type": "code",
   "execution_count": 5,
   "metadata": {},
   "outputs": [
    {
     "name": "stdout",
     "output_type": "stream",
     "text": [
      "Traceback (most recent call last):\r\n",
      "  File \"pydantic/env_settings.py\", line 62, in pydantic.env_settings.BaseSettings._build_environ\r\n",
      "  File \"/home/david/.miniconda3/envs/jupyter/lib/python3.8/json/__init__.py\", line 357, in loads\r\n",
      "    return _default_decoder.decode(s)\r\n",
      "  File \"/home/david/.miniconda3/envs/jupyter/lib/python3.8/json/decoder.py\", line 337, in decode\r\n",
      "    obj, end = self.raw_decode(s, idx=_w(s, 0).end())\r\n",
      "  File \"/home/david/.miniconda3/envs/jupyter/lib/python3.8/json/decoder.py\", line 355, in raw_decode\r\n",
      "    raise JSONDecodeError(\"Expecting value\", s, err.value) from None\r\n",
      "json.decoder.JSONDecodeError: Expecting value: line 1 column 1 (char 0)\r\n",
      "\r\n",
      "The above exception was the direct cause of the following exception:\r\n",
      "\r\n",
      "Traceback (most recent call last):\r\n",
      "  File \"3-json_parsing.py\", line 20, in <module>\r\n",
      "    settings = MySettings()\r\n",
      "  File \"pydantic/env_settings.py\", line 28, in pydantic.env_settings.BaseSettings.__init__\r\n",
      "  File \"pydantic/env_settings.py\", line 31, in pydantic.env_settings.BaseSettings._build_values\r\n",
      "  File \"pydantic/env_settings.py\", line 64, in pydantic.env_settings.BaseSettings._build_environ\r\n",
      "pydantic.env_settings.SettingsError: error parsing JSON for \"app_hosts\"\r\n"
     ]
    }
   ],
   "source": [
    "# Invalid JSON array of Hosts\n",
    "!APP_HOSTS=\"this is a string, not valid json!!!\" python 3*.py"
   ]
  },
  {
   "cell_type": "code",
   "execution_count": 6,
   "metadata": {},
   "outputs": [],
   "source": [
    "# Set hosts array to the .env file, for the next examples working with the ports object\n",
    "!echo \"APP_HOSTS=[\\\"hosts\\\", \\\"in\\\", \\\"the\\\", \\\".env\\\", \\\"file\\\"]\" > .env"
   ]
  },
  {
   "cell_type": "code",
   "execution_count": 7,
   "metadata": {},
   "outputs": [
    {
     "name": "stdout",
     "output_type": "stream",
     "text": [
      "App hosts: ['hosts', 'in', 'the', '.env', 'file']\r\n",
      "App HTTP port: 8080\r\n",
      "App MQTT port: 1881\r\n"
     ]
    }
   ],
   "source": [
    "# Valid ports object (JSON)\n",
    "!APP_PORTS=\"{\\\"http\\\": 8080, \\\"mqtt\\\": 1881}\" python 3*.py"
   ]
  },
  {
   "cell_type": "code",
   "execution_count": 8,
   "metadata": {},
   "outputs": [
    {
     "name": "stdout",
     "output_type": "stream",
     "text": [
      "App hosts: ['hosts', 'in', 'the', '.env', 'file']\r\n",
      "App HTTP port: 8080\r\n",
      "App MQTT port: 1883\r\n"
     ]
    }
   ],
   "source": [
    "# Ports defined as string or float are converted to int\n",
    "!APP_PORTS=\"{\\\"http\\\": \\\"8080\\\", \\\"mqtt\\\": 1883.95}\" python 3*.py"
   ]
  },
  {
   "cell_type": "code",
   "execution_count": 9,
   "metadata": {},
   "outputs": [
    {
     "name": "stdout",
     "output_type": "stream",
     "text": [
      "Traceback (most recent call last):\r\n",
      "  File \"3-json_parsing.py\", line 20, in <module>\r\n",
      "    settings = MySettings()\r\n",
      "  File \"pydantic/env_settings.py\", line 28, in pydantic.env_settings.BaseSettings.__init__\r\n",
      "  File \"pydantic/main.py\", line 338, in pydantic.main.BaseModel.__init__\r\n",
      "pydantic.error_wrappers.ValidationError: 2 validation errors for MySettings\r\n",
      "ports -> http\r\n",
      "  value is not a valid integer (type=type_error.integer)\r\n",
      "ports -> mqtt\r\n",
      "  value is not a valid integer (type=type_error.integer)\r\n"
     ]
    }
   ],
   "source": [
    "# Unparseable ports\n",
    "!APP_PORTS=\"{\\\"http\\\": {}, \\\"mqtt\\\": \\\"this is a string\\\"}\" python 3*.py"
   ]
  },
  {
   "cell_type": "code",
   "execution_count": null,
   "metadata": {},
   "outputs": [],
   "source": []
  }
 ],
 "metadata": {
  "kernelspec": {
   "display_name": "Python 3",
   "language": "python",
   "name": "python3"
  },
  "language_info": {
   "codemirror_mode": {
    "name": "ipython",
    "version": 3
   },
   "file_extension": ".py",
   "mimetype": "text/x-python",
   "name": "python",
   "nbconvert_exporter": "python",
   "pygments_lexer": "ipython3",
   "version": "3.8.1"
  }
 },
 "nbformat": 4,
 "nbformat_minor": 4
}
