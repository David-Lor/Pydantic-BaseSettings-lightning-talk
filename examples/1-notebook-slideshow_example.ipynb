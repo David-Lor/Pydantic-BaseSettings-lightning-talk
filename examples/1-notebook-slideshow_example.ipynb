{
 "cells": [
  {
   "cell_type": "markdown",
   "metadata": {},
   "source": [
    "# Notebook 1: slideshow example\n",
    "\n",
    "## Fields\n",
    "\n",
    "- `host`: string\n",
    "- `port`: int\n",
    "- `start`: bool, default to True"
   ]
  },
  {
   "cell_type": "code",
   "execution_count": 1,
   "metadata": {},
   "outputs": [
    {
     "name": "stdout",
     "output_type": "stream",
     "text": [
      "from pydantic import BaseSettings\r\n",
      "\r\n",
      "\r\n",
      "class MySettings(BaseSettings):\r\n",
      "    host: str\r\n",
      "    port: int\r\n",
      "    start: bool = True\r\n",
      "\r\n",
      "    class Config:\r\n",
      "        env_prefix = \"APP_\"\r\n",
      "        env_file = \".env\"\r\n",
      "\r\n",
      "\r\n",
      "settings = MySettings()\r\n",
      "print(\"App host:\", settings.host)\r\n",
      "print(\"App port:\", settings.port)\r\n",
      "print(\"App start:\", settings.start)\r\n"
     ]
    }
   ],
   "source": [
    "!cat 1*.py"
   ]
  },
  {
   "cell_type": "code",
   "execution_count": 2,
   "metadata": {},
   "outputs": [
    {
     "name": "stdout",
     "output_type": "stream",
     "text": [
      "Traceback (most recent call last):\r\n",
      "  File \"1-slideshow_example.py\", line 14, in <module>\r\n",
      "    settings = MySettings()\r\n",
      "  File \"pydantic/env_settings.py\", line 28, in pydantic.env_settings.BaseSettings.__init__\r\n",
      "  File \"pydantic/main.py\", line 338, in pydantic.main.BaseModel.__init__\r\n",
      "pydantic.error_wrappers.ValidationError: 2 validation errors for MySettings\r\n",
      "host\r\n",
      "  field required (type=value_error.missing)\r\n",
      "port\r\n",
      "  field required (type=value_error.missing)\r\n"
     ]
    }
   ],
   "source": [
    "# With no envs: host, port are required\n",
    "!python 1*.py"
   ]
  },
  {
   "cell_type": "code",
   "execution_count": 3,
   "metadata": {},
   "outputs": [
    {
     "name": "stdout",
     "output_type": "stream",
     "text": [
      "App host: 0.0.0.0\r\n",
      "App port: 8080\r\n",
      "App start: True\r\n"
     ]
    }
   ],
   "source": [
    "# With required fields\n",
    "!APP_HOST=0.0.0.0 APP_PORT=8080 python 1*.py"
   ]
  },
  {
   "cell_type": "code",
   "execution_count": 4,
   "metadata": {},
   "outputs": [
    {
     "name": "stdout",
     "output_type": "stream",
     "text": [
      "App host: 1.1.1.1\r\n",
      "App port: 22\r\n",
      "App start: False\r\n"
     ]
    }
   ],
   "source": [
    "# env variables can be upper/lowercase or combination of both\n",
    "!APP_HOST=1.1.1.1 app_port=22 APP_start=0 python 1*.py"
   ]
  },
  {
   "cell_type": "code",
   "execution_count": 5,
   "metadata": {},
   "outputs": [
    {
     "name": "stdout",
     "output_type": "stream",
     "text": [
      "Traceback (most recent call last):\r\n",
      "  File \"1-slideshow_example.py\", line 14, in <module>\r\n",
      "    settings = MySettings()\r\n",
      "  File \"pydantic/env_settings.py\", line 28, in pydantic.env_settings.BaseSettings.__init__\r\n",
      "  File \"pydantic/main.py\", line 338, in pydantic.main.BaseModel.__init__\r\n",
      "pydantic.error_wrappers.ValidationError: 1 validation error for MySettings\r\n",
      "port\r\n",
      "  value is not a valid integer (type=type_error.integer)\r\n"
     ]
    }
   ],
   "source": [
    "# unparseable number fields will raise error\n",
    "!APP_HOST=1.1.1.1 APP_PORT=22xyz python 1*.py"
   ]
  },
  {
   "cell_type": "code",
   "execution_count": 6,
   "metadata": {},
   "outputs": [
    {
     "name": "stdout",
     "output_type": "stream",
     "text": [
      "App host: 1.1.1.1\n",
      "App port: 22\n",
      "App start: False\n",
      "App host: 1.1.1.1\n",
      "App port: 22\n",
      "App start: False\n",
      "App host: 1.1.1.1\n",
      "App port: 22\n",
      "App start: False\n",
      "App host: 1.1.1.1\n",
      "App port: 22\n",
      "App start: False\n"
     ]
    }
   ],
   "source": [
    "# boolean values can be specified in multiple ways\n",
    "!APP_HOST=1.1.1.1 APP_PORT=22 APP_START=0 python 1*.py\n",
    "!APP_HOST=1.1.1.1 APP_PORT=22 APP_START=false python 1*.py\n",
    "!APP_HOST=1.1.1.1 APP_PORT=22 APP_START=FALSE python 1*.py\n",
    "!APP_HOST=1.1.1.1 APP_PORT=22 APP_START=no python 1*.py"
   ]
  },
  {
   "cell_type": "code",
   "execution_count": 7,
   "metadata": {},
   "outputs": [
    {
     "name": "stdout",
     "output_type": "stream",
     "text": [
      "This is how the .env file looks:\n",
      "APP_HOST=192.168.0.10\n",
      "APP_PORT=8443\n",
      "APP_START=NO\n",
      "\n",
      "Now running the script:\n",
      "App host: 192.168.0.10\n",
      "App port: 8443\n",
      "App start: False\n"
     ]
    }
   ],
   "source": [
    "# try with a .env file (requires python-dotenv installed!)\n",
    "!echo \"APP_HOST=192.168.0.10\" > .env\n",
    "!echo \"APP_PORT=8443\" >> .env\n",
    "!echo \"APP_START=NO\" >> .env\n",
    "\n",
    "!echo \"This is how the .env file looks:\"\n",
    "!cat .env\n",
    "\n",
    "!echo \"\\nNow running the script:\"\n",
    "!python 1*.py"
   ]
  },
  {
   "cell_type": "code",
   "execution_count": null,
   "metadata": {},
   "outputs": [],
   "source": []
  }
 ],
 "metadata": {
  "kernelspec": {
   "display_name": "Python 3",
   "language": "python",
   "name": "python3"
  },
  "language_info": {
   "codemirror_mode": {
    "name": "ipython",
    "version": 3
   },
   "file_extension": ".py",
   "mimetype": "text/x-python",
   "name": "python",
   "nbconvert_exporter": "python",
   "pygments_lexer": "ipython3",
   "version": "3.8.1"
  }
 },
 "nbformat": 4,
 "nbformat_minor": 4
}
